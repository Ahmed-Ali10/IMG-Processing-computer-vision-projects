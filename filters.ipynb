{
 "cells": [
  {
   "cell_type": "code",
   "execution_count": 1,
   "id": "2041baaf",
   "metadata": {},
   "outputs": [],
   "source": [
    "import cv2\n",
    "import numpy as np\n",
    "import skimage\n",
    "from scipy import signal\n",
    "from PIL import Image, ImageFilter\n",
    "from scipy.signal import wiener\n",
    "\n",
    "image=cv2.imread(\"leo.jpg\")\n",
    "image=image/255\n",
    "\n",
    "cv2.imshow(\"orginal image\",image)\n",
    "cv2.waitKey(0)\n",
    "cv2.destroyAllWindows()\n",
    "\n",
    "\n",
    "\n",
    "\n",
    "x =image.shape\n",
    "mean=0\n",
    "variance=0.01\n",
    "sigma=np.sqrt(variance)\n",
    "noise=np.random.normal(loc=mean,scale=sigma,size=(x))\n",
    "\n",
    "imagewithnoise=image+noise\n",
    "#cv2.imwrite(\"leo.jpg\", imagewithnoise, [cv2.IMWRITE_JPEG_QUALITY, 50])\n",
    "\n",
    "cv2.imshow(\"noised image\",imagewithnoise)\n",
    "cv2.waitKey(0)\n",
    "cv2.destroyAllWindows()"
   ]
  },
  {
   "cell_type": "code",
   "execution_count": null,
   "id": "ce45ad7f",
   "metadata": {},
   "outputs": [],
   "source": [
    "#Adaptive wiener Filter\n",
    "filtered_img = wiener(imagewithnoise, (5, 5,5))  #Filter the image\n",
    "cv2.imshow(\"adptive filter\",filtered_img)\n",
    "cv2.waitKey(0)\n",
    "cv2.destroyAllWindows()"
   ]
  },
  {
   "cell_type": "code",
   "execution_count": null,
   "id": "b495e225",
   "metadata": {},
   "outputs": [],
   "source": [
    "#median filter\n",
    "imagewithnoise=imagewithnoise.astype('float32')\n",
    "imgmedian = cv2.medianBlur(imagewithnoise, 3)\n",
    "cv2.imshow(\"After MEd Filter\",imgmedian)\n",
    "cv2.waitKey(0)\n",
    "cv2.destroyAllWindows()"
   ]
  },
  {
   "cell_type": "code",
   "execution_count": null,
   "id": "c0206eb9",
   "metadata": {},
   "outputs": [],
   "source": [
    "#mean filter\n",
    "kernel = np.ones((5,5),np.float32)/25\n",
    "meanimg = cv2.filter2D(imagewithnoise,-1,kernel)\n",
    "cv2.imshow(\"After MEAN Filter\",meanimg)\n",
    "cv2.waitKey(0)\n",
    "cv2.destroyAllWindows()"
   ]
  },
  {
   "cell_type": "code",
   "execution_count": null,
   "id": "b5efcc51",
   "metadata": {},
   "outputs": [],
   "source": [
    "#min filter\n",
    "im = Image.open('images.jpg')\n",
    "imagemin = im.filter(ImageFilter.MinFilter(size = 3))\n",
    "imagemin.show()"
   ]
  },
  {
   "cell_type": "code",
   "execution_count": null,
   "id": "1ac4a8b1",
   "metadata": {},
   "outputs": [],
   "source": [
    "#Max filter\n",
    "im1 = Image.open('images.jpg')\n",
    "imagemax = im1.filter(ImageFilter.MaxFilter(size=3))\n",
    "imagemax.show("
   ]
  }
 ],
 "metadata": {
  "kernelspec": {
   "display_name": "Python 3 (ipykernel)",
   "language": "python",
   "name": "python3"
  },
  "language_info": {
   "codemirror_mode": {
    "name": "ipython",
    "version": 3
   },
   "file_extension": ".py",
   "mimetype": "text/x-python",
   "name": "python",
   "nbconvert_exporter": "python",
   "pygments_lexer": "ipython3",
   "version": "3.9.7"
  }
 },
 "nbformat": 4,
 "nbformat_minor": 5
}
